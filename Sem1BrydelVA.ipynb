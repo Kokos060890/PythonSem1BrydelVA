{
 "cells": [
  {
   "attachments": {},
   "cell_type": "markdown",
   "metadata": {},
   "source": [
    "## Задание 1. На складе лежат разные фрукты в разном количестве.Нужно написать функцию, которая на вход принимает любое количество  названий фруктов и их количество, а возвращает общее количество фруктов на складе"
   ]
  },
  {
   "cell_type": "code",
   "execution_count": 1,
   "metadata": {},
   "outputs": [
    {
     "name": "stdout",
     "output_type": "stream",
     "text": [
      "Общее количество фруктов на складе: 53\n"
     ]
    }
   ],
   "source": [
    "def total_fruits_on_stock(**fruits):\n",
    "    total_count = 0\n",
    "    for count in fruits.values():\n",
    "        total_count += count\n",
    "    return total_count\n",
    "\n",
    "fruits_on_stock = {\n",
    "    'apple': 10,\n",
    "    'banana': 15,\n",
    "    'orange': 8,\n",
    "    'grape': 20\n",
    "}\n",
    "\n",
    "total_fruits = total_fruits_on_stock(**fruits_on_stock)\n",
    "print(\"Общее количество фруктов на складе:\", total_fruits)\n"
   ]
  },
  {
   "attachments": {},
   "cell_type": "markdown",
   "metadata": {},
   "source": [
    "## Задание 2. Дан список с затратами на рекламу. Но в данных есть ошибки, некоторые затраты имеют отрицательную величину. Удалите такие значения из списка и посчитайте суммарные затраты [100, 125, -90, 345, 655, -1, 0, 200],используйте list comprehensions"
   ]
  },
  {
   "cell_type": "code",
   "execution_count": 2,
   "metadata": {},
   "outputs": [
    {
     "name": "stdout",
     "output_type": "stream",
     "text": [
      "Список с положительными затратами: [100, 125, 345, 655, 0, 200]\n",
      "Суммарные затраты: 1425\n"
     ]
    }
   ],
   "source": [
    "expenses = [100, 125, -90, 345, 655, -1, 0, 200]\n",
    "\n",
    "# Удаляем отрицательные значения с помощью list comprehensions\n",
    "filtered_expenses = [expense for expense in expenses if expense >= 0]\n",
    "\n",
    "# Вычисляем суммарные затраты с помощью функции sum()\n",
    "total_expenses = sum(filtered_expenses)\n",
    "\n",
    "print(\"Список с положительными затратами:\", filtered_expenses)\n",
    "print(\"Суммарные затраты:\", total_expenses)\n"
   ]
  },
  {
   "attachments": {},
   "cell_type": "markdown",
   "metadata": {},
   "source": [
    "## Задание 3 Даны два списка.\n",
    "## Дата покупки ['2021-09-14', '2021-12-15', '2021-09-08', '2021-12-05', '2021-10-09', '2021-09-30', '2021-12-22', '2021-11-29', '2021-12-24', '2021-11-26', '2021-10-27', '2021-12-18', '2021-11-09', '2021-11-23', '2021-09-27', '2021-10-02', '2021-12-27', '2021-09-20', '2021-12-13', '2021-11-01', '2021-11-09', '2021-12-06', '2021-12-08', '2021-10-09', '2021-10-31', '2021-09-30', '2021-11-09', '2021-12-13', '2021-10-26', '2021-12-09']\n",
    "## Суммы покупок по датам [1270, 8413, 9028, 3703, 5739, 4095, 295, 4944, 5723, 3701, 4471, 651, 7037, 4274, 6275, 4988, 6930, 2971, 6592, 2004, 2822, 519, 3406, 2732, 5015, 2008, 316, 6333, 5700, 2887]\n",
    "## 3.1  Найдите, какая выручка у компании в ноябре Используйте list comprehensions"
   ]
  },
  {
   "cell_type": "code",
   "execution_count": 3,
   "metadata": {},
   "outputs": [
    {
     "name": "stdout",
     "output_type": "stream",
     "text": [
      "Выручка компании в ноябре: 25098\n"
     ]
    }
   ],
   "source": [
    "# Данные о дате покупки\n",
    "purchase_dates = ['2021-09-14', '2021-12-15', '2021-09-08', '2021-12-05', '2021-10-09', '2021-09-30', '2021-12-22', '2021-11-29', '2021-12-24', '2021-11-26', '2021-10-27', '2021-12-18', '2021-11-09', '2021-11-23', '2021-09-27', '2021-10-02', '2021-12-27', '2021-09-20', '2021-12-13', '2021-11-01', '2021-11-09', '2021-12-06', '2021-12-08', '2021-10-09', '2021-10-31', '2021-09-30', '2021-11-09', '2021-12-13', '2021-10-26', '2021-12-09']\n",
    "\n",
    "# Данные о суммах покупок по датам\n",
    "purchase_amounts = [1270, 8413, 9028, 3703, 5739, 4095, 295, 4944, 5723, 3701, 4471, 651, 7037, 4274, 6275, 4988, 6930, 2971, 6592, 2004, 2822, 519, 3406, 2732, 5015, 2008, 316, 6333, 5700, 2887]\n",
    "\n",
    "# Преобразуем даты в формат datetime для дальнейшего анализа\n",
    "import datetime\n",
    "purchase_dates = [datetime.datetime.strptime(date, '%Y-%m-%d') for date in purchase_dates]\n",
    "\n",
    "# Используем list comprehensions, чтобы получить суммы покупок за ноябрь\n",
    "november_revenue = sum(amount for date, amount in zip(purchase_dates, purchase_amounts) if date.month == 11)\n",
    "\n",
    "print(\"Выручка компании в ноябре:\", november_revenue)\n"
   ]
  },
  {
   "attachments": {},
   "cell_type": "markdown",
   "metadata": {},
   "source": []
  },
  {
   "cell_type": "code",
   "execution_count": null,
   "metadata": {},
   "outputs": [],
   "source": []
  }
 ],
 "metadata": {
  "kernelspec": {
   "display_name": "Python 3",
   "language": "python",
   "name": "python3"
  },
  "language_info": {
   "codemirror_mode": {
    "name": "ipython",
    "version": 3
   },
   "file_extension": ".py",
   "mimetype": "text/x-python",
   "name": "python",
   "nbconvert_exporter": "python",
   "pygments_lexer": "ipython3",
   "version": "3.11.4"
  },
  "orig_nbformat": 4
 },
 "nbformat": 4,
 "nbformat_minor": 2
}
